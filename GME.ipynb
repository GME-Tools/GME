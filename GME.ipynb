{
  "nbformat": 4,
  "nbformat_minor": 0,
  "metadata": {
    "colab": {
      "name": "GME",
      "provenance": []
    },
    "kernelspec": {
      "name": "python3",
      "display_name": "Python 3"
    },
    "language_info": {
      "name": "python"
    },
    "widgets": {
      "application/vnd.jupyter.widget-state+json": {
        "26400fbc7f8542cbb55efb6dffcc2f01": {
          "model_module": "@jupyter-widgets/controls",
          "model_name": "VBoxModel",
          "model_module_version": "1.5.0",
          "state": {
            "_view_name": "VBoxView",
            "_dom_classes": [],
            "_model_name": "VBoxModel",
            "_view_module": "@jupyter-widgets/controls",
            "_model_module_version": "1.5.0",
            "_view_count": null,
            "_view_module_version": "1.5.0",
            "box_style": "",
            "layout": "IPY_MODEL_017b1b6bf28a43aca53333bace5f4055",
            "_model_module": "@jupyter-widgets/controls",
            "children": [
              "IPY_MODEL_9fdfa7bbec184e22adfcef55454657c0",
              "IPY_MODEL_04a7fa5aebb14145b1450daea65b2018"
            ]
          }
        },
        "017b1b6bf28a43aca53333bace5f4055": {
          "model_module": "@jupyter-widgets/base",
          "model_name": "LayoutModel",
          "model_module_version": "1.2.0",
          "state": {
            "_view_name": "LayoutView",
            "grid_template_rows": null,
            "right": null,
            "justify_content": null,
            "_view_module": "@jupyter-widgets/base",
            "overflow": null,
            "_model_module_version": "1.2.0",
            "_view_count": null,
            "flex_flow": null,
            "width": null,
            "min_width": null,
            "border": null,
            "align_items": null,
            "bottom": null,
            "_model_module": "@jupyter-widgets/base",
            "top": null,
            "grid_column": null,
            "overflow_y": null,
            "overflow_x": null,
            "grid_auto_flow": null,
            "grid_area": null,
            "grid_template_columns": null,
            "flex": null,
            "_model_name": "LayoutModel",
            "justify_items": null,
            "grid_row": null,
            "max_height": null,
            "align_content": null,
            "visibility": null,
            "align_self": null,
            "height": null,
            "min_height": null,
            "padding": null,
            "grid_auto_rows": null,
            "grid_gap": null,
            "max_width": null,
            "order": null,
            "_view_module_version": "1.2.0",
            "grid_template_areas": null,
            "object_position": null,
            "object_fit": null,
            "grid_auto_columns": null,
            "margin": null,
            "display": null,
            "left": null
          }
        },
        "9fdfa7bbec184e22adfcef55454657c0": {
          "model_module": "@jupyter-widgets/controls",
          "model_name": "DropdownModel",
          "model_module_version": "1.5.0",
          "state": {
            "_options_labels": [
              "Icewind Dale\n",
              "Avernus\n"
            ],
            "_view_name": "DropdownView",
            "style": "IPY_MODEL_bc3473091b664b43864659834153443b",
            "_dom_classes": [],
            "description": "Campaigns:",
            "_model_name": "DropdownModel",
            "index": 0,
            "_view_module": "@jupyter-widgets/controls",
            "_model_module_version": "1.5.0",
            "_view_count": null,
            "disabled": false,
            "_view_module_version": "1.5.0",
            "description_tooltip": null,
            "_model_module": "@jupyter-widgets/controls",
            "layout": "IPY_MODEL_e026a4b2abc542dcb0cff1d23d0aa390"
          }
        },
        "04a7fa5aebb14145b1450daea65b2018": {
          "model_module": "@jupyter-widgets/controls",
          "model_name": "ButtonModel",
          "model_module_version": "1.5.0",
          "state": {
            "_view_name": "ButtonView",
            "style": "IPY_MODEL_aa7873f67cf4466c9a5d42f09632de23",
            "_dom_classes": [],
            "description": "Load",
            "_model_name": "ButtonModel",
            "button_style": "",
            "_view_module": "@jupyter-widgets/controls",
            "_model_module_version": "1.5.0",
            "tooltip": "",
            "_view_count": null,
            "disabled": false,
            "_view_module_version": "1.5.0",
            "layout": "IPY_MODEL_4182162b57b9427b928dc3f364a5f2ac",
            "_model_module": "@jupyter-widgets/controls",
            "icon": ""
          }
        },
        "bc3473091b664b43864659834153443b": {
          "model_module": "@jupyter-widgets/controls",
          "model_name": "DescriptionStyleModel",
          "model_module_version": "1.5.0",
          "state": {
            "_view_name": "StyleView",
            "_model_name": "DescriptionStyleModel",
            "description_width": "",
            "_view_module": "@jupyter-widgets/base",
            "_model_module_version": "1.5.0",
            "_view_count": null,
            "_view_module_version": "1.2.0",
            "_model_module": "@jupyter-widgets/controls"
          }
        },
        "e026a4b2abc542dcb0cff1d23d0aa390": {
          "model_module": "@jupyter-widgets/base",
          "model_name": "LayoutModel",
          "model_module_version": "1.2.0",
          "state": {
            "_view_name": "LayoutView",
            "grid_template_rows": null,
            "right": null,
            "justify_content": null,
            "_view_module": "@jupyter-widgets/base",
            "overflow": null,
            "_model_module_version": "1.2.0",
            "_view_count": null,
            "flex_flow": null,
            "width": null,
            "min_width": null,
            "border": null,
            "align_items": null,
            "bottom": null,
            "_model_module": "@jupyter-widgets/base",
            "top": null,
            "grid_column": null,
            "overflow_y": null,
            "overflow_x": null,
            "grid_auto_flow": null,
            "grid_area": null,
            "grid_template_columns": null,
            "flex": null,
            "_model_name": "LayoutModel",
            "justify_items": null,
            "grid_row": null,
            "max_height": null,
            "align_content": null,
            "visibility": null,
            "align_self": null,
            "height": null,
            "min_height": null,
            "padding": null,
            "grid_auto_rows": null,
            "grid_gap": null,
            "max_width": null,
            "order": null,
            "_view_module_version": "1.2.0",
            "grid_template_areas": null,
            "object_position": null,
            "object_fit": null,
            "grid_auto_columns": null,
            "margin": null,
            "display": null,
            "left": null
          }
        },
        "aa7873f67cf4466c9a5d42f09632de23": {
          "model_module": "@jupyter-widgets/controls",
          "model_name": "ButtonStyleModel",
          "model_module_version": "1.5.0",
          "state": {
            "_view_name": "StyleView",
            "_model_name": "ButtonStyleModel",
            "_view_module": "@jupyter-widgets/base",
            "_model_module_version": "1.5.0",
            "_view_count": null,
            "button_color": null,
            "font_weight": "",
            "_view_module_version": "1.2.0",
            "_model_module": "@jupyter-widgets/controls"
          }
        },
        "4182162b57b9427b928dc3f364a5f2ac": {
          "model_module": "@jupyter-widgets/base",
          "model_name": "LayoutModel",
          "model_module_version": "1.2.0",
          "state": {
            "_view_name": "LayoutView",
            "grid_template_rows": null,
            "right": null,
            "justify_content": null,
            "_view_module": "@jupyter-widgets/base",
            "overflow": null,
            "_model_module_version": "1.2.0",
            "_view_count": null,
            "flex_flow": null,
            "width": null,
            "min_width": null,
            "border": null,
            "align_items": null,
            "bottom": null,
            "_model_module": "@jupyter-widgets/base",
            "top": null,
            "grid_column": null,
            "overflow_y": null,
            "overflow_x": null,
            "grid_auto_flow": null,
            "grid_area": null,
            "grid_template_columns": null,
            "flex": null,
            "_model_name": "LayoutModel",
            "justify_items": null,
            "grid_row": null,
            "max_height": null,
            "align_content": null,
            "visibility": null,
            "align_self": null,
            "height": null,
            "min_height": null,
            "padding": null,
            "grid_auto_rows": null,
            "grid_gap": null,
            "max_width": null,
            "order": null,
            "_view_module_version": "1.2.0",
            "grid_template_areas": null,
            "object_position": null,
            "object_fit": null,
            "grid_auto_columns": null,
            "margin": null,
            "display": null,
            "left": null
          }
        },
        "452d2f12f38a4bedbfc9ef7cd58638f0": {
          "model_module": "@jupyter-widgets/controls",
          "model_name": "HBoxModel",
          "model_module_version": "1.5.0",
          "state": {
            "_view_name": "HBoxView",
            "_dom_classes": [],
            "_model_name": "HBoxModel",
            "_view_module": "@jupyter-widgets/controls",
            "_model_module_version": "1.5.0",
            "_view_count": null,
            "_view_module_version": "1.5.0",
            "box_style": "",
            "layout": "IPY_MODEL_85ecb305fbc7431988f59ef9b67afcb5",
            "_model_module": "@jupyter-widgets/controls",
            "children": [
              "IPY_MODEL_c0394d8fdacd464f9125a27cf05f3af3",
              "IPY_MODEL_57979854417a4650b1c3d3e014abda4b"
            ]
          }
        },
        "85ecb305fbc7431988f59ef9b67afcb5": {
          "model_module": "@jupyter-widgets/base",
          "model_name": "LayoutModel",
          "model_module_version": "1.2.0",
          "state": {
            "_view_name": "LayoutView",
            "grid_template_rows": null,
            "right": null,
            "justify_content": null,
            "_view_module": "@jupyter-widgets/base",
            "overflow": null,
            "_model_module_version": "1.2.0",
            "_view_count": null,
            "flex_flow": null,
            "width": null,
            "min_width": null,
            "border": null,
            "align_items": null,
            "bottom": null,
            "_model_module": "@jupyter-widgets/base",
            "top": null,
            "grid_column": null,
            "overflow_y": null,
            "overflow_x": null,
            "grid_auto_flow": null,
            "grid_area": null,
            "grid_template_columns": null,
            "flex": null,
            "_model_name": "LayoutModel",
            "justify_items": null,
            "grid_row": null,
            "max_height": null,
            "align_content": null,
            "visibility": null,
            "align_self": null,
            "height": null,
            "min_height": null,
            "padding": null,
            "grid_auto_rows": null,
            "grid_gap": null,
            "max_width": null,
            "order": null,
            "_view_module_version": "1.2.0",
            "grid_template_areas": null,
            "object_position": null,
            "object_fit": null,
            "grid_auto_columns": null,
            "margin": null,
            "display": null,
            "left": null
          }
        },
        "c0394d8fdacd464f9125a27cf05f3af3": {
          "model_module": "@jupyter-widgets/controls",
          "model_name": "TabModel",
          "model_module_version": "1.5.0",
          "state": {
            "_view_name": "TabView",
            "_dom_classes": [],
            "_titles": {
              "0": "Oracle"
            },
            "_model_name": "TabModel",
            "_view_module": "@jupyter-widgets/controls",
            "selected_index": 0,
            "_model_module_version": "1.5.0",
            "_view_count": null,
            "_view_module_version": "1.5.0",
            "box_style": "",
            "layout": "IPY_MODEL_13e99ed9baee4b5bb6e3490ce8d399e1",
            "_model_module": "@jupyter-widgets/controls",
            "children": [
              "IPY_MODEL_97edcbc3fabc4ce09d8ef7f957dd0f4a"
            ]
          }
        },
        "57979854417a4650b1c3d3e014abda4b": {
          "model_module": "@jupyter-widgets/output",
          "model_name": "OutputModel",
          "model_module_version": "1.0.0",
          "state": {
            "_view_name": "OutputView",
            "msg_id": "",
            "_dom_classes": [],
            "_model_name": "OutputModel",
            "outputs": [],
            "_view_module": "@jupyter-widgets/output",
            "_model_module_version": "1.0.0",
            "_view_count": null,
            "_view_module_version": "1.0.0",
            "layout": "IPY_MODEL_9c71f293c21148e2a5f00936b3b2010b",
            "_model_module": "@jupyter-widgets/output"
          }
        },
        "13e99ed9baee4b5bb6e3490ce8d399e1": {
          "model_module": "@jupyter-widgets/base",
          "model_name": "LayoutModel",
          "model_module_version": "1.2.0",
          "state": {
            "_view_name": "LayoutView",
            "grid_template_rows": null,
            "right": null,
            "justify_content": null,
            "_view_module": "@jupyter-widgets/base",
            "overflow": null,
            "_model_module_version": "1.2.0",
            "_view_count": null,
            "flex_flow": null,
            "width": null,
            "min_width": null,
            "border": null,
            "align_items": null,
            "bottom": null,
            "_model_module": "@jupyter-widgets/base",
            "top": null,
            "grid_column": null,
            "overflow_y": null,
            "overflow_x": null,
            "grid_auto_flow": null,
            "grid_area": null,
            "grid_template_columns": null,
            "flex": null,
            "_model_name": "LayoutModel",
            "justify_items": null,
            "grid_row": null,
            "max_height": null,
            "align_content": null,
            "visibility": null,
            "align_self": null,
            "height": null,
            "min_height": null,
            "padding": null,
            "grid_auto_rows": null,
            "grid_gap": null,
            "max_width": null,
            "order": null,
            "_view_module_version": "1.2.0",
            "grid_template_areas": null,
            "object_position": null,
            "object_fit": null,
            "grid_auto_columns": null,
            "margin": null,
            "display": null,
            "left": null
          }
        },
        "97edcbc3fabc4ce09d8ef7f957dd0f4a": {
          "model_module": "@jupyter-widgets/controls",
          "model_name": "VBoxModel",
          "model_module_version": "1.5.0",
          "state": {
            "_view_name": "VBoxView",
            "_dom_classes": [],
            "_model_name": "VBoxModel",
            "_view_module": "@jupyter-widgets/controls",
            "_model_module_version": "1.5.0",
            "_view_count": null,
            "_view_module_version": "1.5.0",
            "box_style": "",
            "layout": "IPY_MODEL_be127e4a499e412ea52e36fec7e6e353",
            "_model_module": "@jupyter-widgets/controls",
            "children": [
              "IPY_MODEL_a131e6699f364574b57d88d287ea24fe",
              "IPY_MODEL_692ff7011004414a9dd1b89943b0c154"
            ]
          }
        },
        "be127e4a499e412ea52e36fec7e6e353": {
          "model_module": "@jupyter-widgets/base",
          "model_name": "LayoutModel",
          "model_module_version": "1.2.0",
          "state": {
            "_view_name": "LayoutView",
            "grid_template_rows": null,
            "right": null,
            "justify_content": null,
            "_view_module": "@jupyter-widgets/base",
            "overflow": null,
            "_model_module_version": "1.2.0",
            "_view_count": null,
            "flex_flow": null,
            "width": null,
            "min_width": null,
            "border": null,
            "align_items": null,
            "bottom": null,
            "_model_module": "@jupyter-widgets/base",
            "top": null,
            "grid_column": null,
            "overflow_y": null,
            "overflow_x": null,
            "grid_auto_flow": null,
            "grid_area": null,
            "grid_template_columns": null,
            "flex": null,
            "_model_name": "LayoutModel",
            "justify_items": null,
            "grid_row": null,
            "max_height": null,
            "align_content": null,
            "visibility": null,
            "align_self": null,
            "height": null,
            "min_height": null,
            "padding": null,
            "grid_auto_rows": null,
            "grid_gap": null,
            "max_width": null,
            "order": null,
            "_view_module_version": "1.2.0",
            "grid_template_areas": null,
            "object_position": null,
            "object_fit": null,
            "grid_auto_columns": null,
            "margin": null,
            "display": null,
            "left": null
          }
        },
        "a131e6699f364574b57d88d287ea24fe": {
          "model_module": "@jupyter-widgets/controls",
          "model_name": "VBoxModel",
          "model_module_version": "1.5.0",
          "state": {
            "_view_name": "VBoxView",
            "_dom_classes": [],
            "_model_name": "VBoxModel",
            "_view_module": "@jupyter-widgets/controls",
            "_model_module_version": "1.5.0",
            "_view_count": null,
            "_view_module_version": "1.5.0",
            "box_style": "",
            "layout": "IPY_MODEL_e36a4f66fe614bbd9e76c43c199b2a63",
            "_model_module": "@jupyter-widgets/controls",
            "children": [
              "IPY_MODEL_df575ff977eb4501b3b8d88a0c203785",
              "IPY_MODEL_5e77461de23a4a84a0c1127e9d219fbb",
              "IPY_MODEL_3b789c134703424e9c2dec7ba357d616",
              "IPY_MODEL_874a9e9e9deb4a268ce304c6ba631a8f"
            ]
          }
        },
        "692ff7011004414a9dd1b89943b0c154": {
          "model_module": "@jupyter-widgets/controls",
          "model_name": "VBoxModel",
          "model_module_version": "1.5.0",
          "state": {
            "_view_name": "VBoxView",
            "_dom_classes": [],
            "_model_name": "VBoxModel",
            "_view_module": "@jupyter-widgets/controls",
            "_model_module_version": "1.5.0",
            "_view_count": null,
            "_view_module_version": "1.5.0",
            "box_style": "",
            "layout": "IPY_MODEL_011835938b7d445fadef82451a816c49",
            "_model_module": "@jupyter-widgets/controls",
            "children": [
              "IPY_MODEL_030998ce829d48a2b5fce17980fe6b4e",
              "IPY_MODEL_b565335f5ada4bad829aa4b002e569ff"
            ]
          }
        },
        "e36a4f66fe614bbd9e76c43c199b2a63": {
          "model_module": "@jupyter-widgets/base",
          "model_name": "LayoutModel",
          "model_module_version": "1.2.0",
          "state": {
            "_view_name": "LayoutView",
            "grid_template_rows": null,
            "right": null,
            "justify_content": null,
            "_view_module": "@jupyter-widgets/base",
            "overflow": null,
            "_model_module_version": "1.2.0",
            "_view_count": null,
            "flex_flow": null,
            "width": null,
            "min_width": null,
            "border": "1px gray solid",
            "align_items": null,
            "bottom": null,
            "_model_module": "@jupyter-widgets/base",
            "top": null,
            "grid_column": null,
            "overflow_y": null,
            "overflow_x": null,
            "grid_auto_flow": null,
            "grid_area": null,
            "grid_template_columns": null,
            "flex": null,
            "_model_name": "LayoutModel",
            "justify_items": null,
            "grid_row": null,
            "max_height": null,
            "align_content": null,
            "visibility": null,
            "align_self": null,
            "height": null,
            "min_height": null,
            "padding": "3px",
            "grid_auto_rows": null,
            "grid_gap": null,
            "max_width": null,
            "order": null,
            "_view_module_version": "1.2.0",
            "grid_template_areas": null,
            "object_position": null,
            "object_fit": null,
            "grid_auto_columns": null,
            "margin": "3px",
            "display": null,
            "left": null
          }
        },
        "df575ff977eb4501b3b8d88a0c203785": {
          "model_module": "@jupyter-widgets/controls",
          "model_name": "LabelModel",
          "model_module_version": "1.5.0",
          "state": {
            "_view_name": "LabelView",
            "style": "IPY_MODEL_be02fe6a4d494e37aa817f5baf8dd84b",
            "_dom_classes": [],
            "description": "",
            "_model_name": "LabelModel",
            "placeholder": "​",
            "_view_module": "@jupyter-widgets/controls",
            "_model_module_version": "1.5.0",
            "value": "Fate Check",
            "_view_count": null,
            "_view_module_version": "1.5.0",
            "description_tooltip": null,
            "_model_module": "@jupyter-widgets/controls",
            "layout": "IPY_MODEL_f525792c7f604dfba008b42b9b2f58e9"
          }
        },
        "5e77461de23a4a84a0c1127e9d219fbb": {
          "model_module": "@jupyter-widgets/controls",
          "model_name": "DropdownModel",
          "model_module_version": "1.5.0",
          "state": {
            "_options_labels": [
              "Impossible",
              "No Way",
              "Very Unlikely",
              "Unlikely",
              "50/50",
              "Likely",
              "Very Likely",
              "Sure Thing",
              "Has To Be"
            ],
            "_view_name": "DropdownView",
            "style": "IPY_MODEL_1b4021409fa24413992de1ed538d00e6",
            "_dom_classes": [],
            "description": "Odds:",
            "_model_name": "DropdownModel",
            "index": 4,
            "_view_module": "@jupyter-widgets/controls",
            "_model_module_version": "1.5.0",
            "_view_count": null,
            "disabled": false,
            "_view_module_version": "1.5.0",
            "description_tooltip": null,
            "_model_module": "@jupyter-widgets/controls",
            "layout": "IPY_MODEL_d0e06ac5b35549f2ba860518c6eeec01"
          }
        },
        "3b789c134703424e9c2dec7ba357d616": {
          "model_module": "@jupyter-widgets/controls",
          "model_name": "IntSliderModel",
          "model_module_version": "1.5.0",
          "state": {
            "_view_name": "IntSliderView",
            "style": "IPY_MODEL_28a37688dc894a748466c96827bfd0ca",
            "_dom_classes": [],
            "description": "+/- :",
            "step": 2,
            "_model_name": "IntSliderModel",
            "orientation": "horizontal",
            "max": 1,
            "_view_module": "@jupyter-widgets/controls",
            "_model_module_version": "1.5.0",
            "value": 1,
            "_view_count": null,
            "disabled": false,
            "_view_module_version": "1.5.0",
            "min": -1,
            "continuous_update": true,
            "readout_format": "d",
            "description_tooltip": null,
            "readout": true,
            "_model_module": "@jupyter-widgets/controls",
            "layout": "IPY_MODEL_ef25ecd93e1a461f9e3c23b5653df15f"
          }
        },
        "874a9e9e9deb4a268ce304c6ba631a8f": {
          "model_module": "@jupyter-widgets/controls",
          "model_name": "ButtonModel",
          "model_module_version": "1.5.0",
          "state": {
            "_view_name": "ButtonView",
            "style": "IPY_MODEL_0fc0598d351a4264abf3a825ec9b9959",
            "_dom_classes": [],
            "description": "Fate Check",
            "_model_name": "ButtonModel",
            "button_style": "",
            "_view_module": "@jupyter-widgets/controls",
            "_model_module_version": "1.5.0",
            "tooltip": "",
            "_view_count": null,
            "disabled": false,
            "_view_module_version": "1.5.0",
            "layout": "IPY_MODEL_9e63f5bf59a94467abd729e57e8c64a8",
            "_model_module": "@jupyter-widgets/controls",
            "icon": ""
          }
        },
        "011835938b7d445fadef82451a816c49": {
          "model_module": "@jupyter-widgets/base",
          "model_name": "LayoutModel",
          "model_module_version": "1.2.0",
          "state": {
            "_view_name": "LayoutView",
            "grid_template_rows": null,
            "right": null,
            "justify_content": null,
            "_view_module": "@jupyter-widgets/base",
            "overflow": null,
            "_model_module_version": "1.2.0",
            "_view_count": null,
            "flex_flow": null,
            "width": null,
            "min_width": null,
            "border": "1px gray solid",
            "align_items": null,
            "bottom": null,
            "_model_module": "@jupyter-widgets/base",
            "top": null,
            "grid_column": null,
            "overflow_y": null,
            "overflow_x": null,
            "grid_auto_flow": null,
            "grid_area": null,
            "grid_template_columns": null,
            "flex": null,
            "_model_name": "LayoutModel",
            "justify_items": null,
            "grid_row": null,
            "max_height": null,
            "align_content": null,
            "visibility": null,
            "align_self": null,
            "height": null,
            "min_height": null,
            "padding": "3px",
            "grid_auto_rows": null,
            "grid_gap": null,
            "max_width": null,
            "order": null,
            "_view_module_version": "1.2.0",
            "grid_template_areas": null,
            "object_position": null,
            "object_fit": null,
            "grid_auto_columns": null,
            "margin": "3px",
            "display": null,
            "left": null
          }
        },
        "030998ce829d48a2b5fce17980fe6b4e": {
          "model_module": "@jupyter-widgets/controls",
          "model_name": "LabelModel",
          "model_module_version": "1.5.0",
          "state": {
            "_view_name": "LabelView",
            "style": "IPY_MODEL_59017e8858e6450bb4c34e3ff57acab1",
            "_dom_classes": [],
            "description": "",
            "_model_name": "LabelModel",
            "placeholder": "​",
            "_view_module": "@jupyter-widgets/controls",
            "_model_module_version": "1.5.0",
            "value": "Detail Check",
            "_view_count": null,
            "_view_module_version": "1.5.0",
            "description_tooltip": null,
            "_model_module": "@jupyter-widgets/controls",
            "layout": "IPY_MODEL_68a91fea88fd4f6c83bf11da5195be1f"
          }
        },
        "b565335f5ada4bad829aa4b002e569ff": {
          "model_module": "@jupyter-widgets/controls",
          "model_name": "ButtonModel",
          "model_module_version": "1.5.0",
          "state": {
            "_view_name": "ButtonView",
            "style": "IPY_MODEL_19306fe173dd4745bd03018cdc1645a9",
            "_dom_classes": [],
            "description": "Detail Check",
            "_model_name": "ButtonModel",
            "button_style": "",
            "_view_module": "@jupyter-widgets/controls",
            "_model_module_version": "1.5.0",
            "tooltip": "",
            "_view_count": null,
            "disabled": false,
            "_view_module_version": "1.5.0",
            "layout": "IPY_MODEL_6d9435c5906d45e9af99d429c6e28910",
            "_model_module": "@jupyter-widgets/controls",
            "icon": ""
          }
        },
        "be02fe6a4d494e37aa817f5baf8dd84b": {
          "model_module": "@jupyter-widgets/controls",
          "model_name": "DescriptionStyleModel",
          "model_module_version": "1.5.0",
          "state": {
            "_view_name": "StyleView",
            "_model_name": "DescriptionStyleModel",
            "description_width": "",
            "_view_module": "@jupyter-widgets/base",
            "_model_module_version": "1.5.0",
            "_view_count": null,
            "_view_module_version": "1.2.0",
            "_model_module": "@jupyter-widgets/controls"
          }
        },
        "f525792c7f604dfba008b42b9b2f58e9": {
          "model_module": "@jupyter-widgets/base",
          "model_name": "LayoutModel",
          "model_module_version": "1.2.0",
          "state": {
            "_view_name": "LayoutView",
            "grid_template_rows": null,
            "right": null,
            "justify_content": null,
            "_view_module": "@jupyter-widgets/base",
            "overflow": null,
            "_model_module_version": "1.2.0",
            "_view_count": null,
            "flex_flow": null,
            "width": null,
            "min_width": null,
            "border": null,
            "align_items": null,
            "bottom": null,
            "_model_module": "@jupyter-widgets/base",
            "top": null,
            "grid_column": null,
            "overflow_y": null,
            "overflow_x": null,
            "grid_auto_flow": null,
            "grid_area": null,
            "grid_template_columns": null,
            "flex": null,
            "_model_name": "LayoutModel",
            "justify_items": null,
            "grid_row": null,
            "max_height": null,
            "align_content": null,
            "visibility": null,
            "align_self": null,
            "height": null,
            "min_height": null,
            "padding": null,
            "grid_auto_rows": null,
            "grid_gap": null,
            "max_width": null,
            "order": null,
            "_view_module_version": "1.2.0",
            "grid_template_areas": null,
            "object_position": null,
            "object_fit": null,
            "grid_auto_columns": null,
            "margin": null,
            "display": null,
            "left": null
          }
        },
        "1b4021409fa24413992de1ed538d00e6": {
          "model_module": "@jupyter-widgets/controls",
          "model_name": "DescriptionStyleModel",
          "model_module_version": "1.5.0",
          "state": {
            "_view_name": "StyleView",
            "_model_name": "DescriptionStyleModel",
            "description_width": "",
            "_view_module": "@jupyter-widgets/base",
            "_model_module_version": "1.5.0",
            "_view_count": null,
            "_view_module_version": "1.2.0",
            "_model_module": "@jupyter-widgets/controls"
          }
        },
        "d0e06ac5b35549f2ba860518c6eeec01": {
          "model_module": "@jupyter-widgets/base",
          "model_name": "LayoutModel",
          "model_module_version": "1.2.0",
          "state": {
            "_view_name": "LayoutView",
            "grid_template_rows": null,
            "right": null,
            "justify_content": null,
            "_view_module": "@jupyter-widgets/base",
            "overflow": null,
            "_model_module_version": "1.2.0",
            "_view_count": null,
            "flex_flow": null,
            "width": null,
            "min_width": null,
            "border": null,
            "align_items": null,
            "bottom": null,
            "_model_module": "@jupyter-widgets/base",
            "top": null,
            "grid_column": null,
            "overflow_y": null,
            "overflow_x": null,
            "grid_auto_flow": null,
            "grid_area": null,
            "grid_template_columns": null,
            "flex": null,
            "_model_name": "LayoutModel",
            "justify_items": null,
            "grid_row": null,
            "max_height": null,
            "align_content": null,
            "visibility": null,
            "align_self": null,
            "height": null,
            "min_height": null,
            "padding": null,
            "grid_auto_rows": null,
            "grid_gap": null,
            "max_width": null,
            "order": null,
            "_view_module_version": "1.2.0",
            "grid_template_areas": null,
            "object_position": null,
            "object_fit": null,
            "grid_auto_columns": null,
            "margin": null,
            "display": null,
            "left": null
          }
        },
        "28a37688dc894a748466c96827bfd0ca": {
          "model_module": "@jupyter-widgets/controls",
          "model_name": "SliderStyleModel",
          "model_module_version": "1.5.0",
          "state": {
            "_view_name": "StyleView",
            "handle_color": null,
            "_model_name": "SliderStyleModel",
            "description_width": "",
            "_view_module": "@jupyter-widgets/base",
            "_model_module_version": "1.5.0",
            "_view_count": null,
            "_view_module_version": "1.2.0",
            "_model_module": "@jupyter-widgets/controls"
          }
        },
        "ef25ecd93e1a461f9e3c23b5653df15f": {
          "model_module": "@jupyter-widgets/base",
          "model_name": "LayoutModel",
          "model_module_version": "1.2.0",
          "state": {
            "_view_name": "LayoutView",
            "grid_template_rows": null,
            "right": null,
            "justify_content": null,
            "_view_module": "@jupyter-widgets/base",
            "overflow": null,
            "_model_module_version": "1.2.0",
            "_view_count": null,
            "flex_flow": null,
            "width": null,
            "min_width": null,
            "border": null,
            "align_items": null,
            "bottom": null,
            "_model_module": "@jupyter-widgets/base",
            "top": null,
            "grid_column": null,
            "overflow_y": null,
            "overflow_x": null,
            "grid_auto_flow": null,
            "grid_area": null,
            "grid_template_columns": null,
            "flex": null,
            "_model_name": "LayoutModel",
            "justify_items": null,
            "grid_row": null,
            "max_height": null,
            "align_content": null,
            "visibility": null,
            "align_self": null,
            "height": null,
            "min_height": null,
            "padding": null,
            "grid_auto_rows": null,
            "grid_gap": null,
            "max_width": null,
            "order": null,
            "_view_module_version": "1.2.0",
            "grid_template_areas": null,
            "object_position": null,
            "object_fit": null,
            "grid_auto_columns": null,
            "margin": null,
            "display": null,
            "left": null
          }
        },
        "0fc0598d351a4264abf3a825ec9b9959": {
          "model_module": "@jupyter-widgets/controls",
          "model_name": "ButtonStyleModel",
          "model_module_version": "1.5.0",
          "state": {
            "_view_name": "StyleView",
            "_model_name": "ButtonStyleModel",
            "_view_module": "@jupyter-widgets/base",
            "_model_module_version": "1.5.0",
            "_view_count": null,
            "button_color": null,
            "font_weight": "",
            "_view_module_version": "1.2.0",
            "_model_module": "@jupyter-widgets/controls"
          }
        },
        "9e63f5bf59a94467abd729e57e8c64a8": {
          "model_module": "@jupyter-widgets/base",
          "model_name": "LayoutModel",
          "model_module_version": "1.2.0",
          "state": {
            "_view_name": "LayoutView",
            "grid_template_rows": null,
            "right": null,
            "justify_content": null,
            "_view_module": "@jupyter-widgets/base",
            "overflow": null,
            "_model_module_version": "1.2.0",
            "_view_count": null,
            "flex_flow": null,
            "width": null,
            "min_width": null,
            "border": null,
            "align_items": null,
            "bottom": null,
            "_model_module": "@jupyter-widgets/base",
            "top": null,
            "grid_column": null,
            "overflow_y": null,
            "overflow_x": null,
            "grid_auto_flow": null,
            "grid_area": null,
            "grid_template_columns": null,
            "flex": null,
            "_model_name": "LayoutModel",
            "justify_items": null,
            "grid_row": null,
            "max_height": null,
            "align_content": null,
            "visibility": null,
            "align_self": null,
            "height": null,
            "min_height": null,
            "padding": null,
            "grid_auto_rows": null,
            "grid_gap": null,
            "max_width": null,
            "order": null,
            "_view_module_version": "1.2.0",
            "grid_template_areas": null,
            "object_position": null,
            "object_fit": null,
            "grid_auto_columns": null,
            "margin": null,
            "display": null,
            "left": null
          }
        },
        "59017e8858e6450bb4c34e3ff57acab1": {
          "model_module": "@jupyter-widgets/controls",
          "model_name": "DescriptionStyleModel",
          "model_module_version": "1.5.0",
          "state": {
            "_view_name": "StyleView",
            "_model_name": "DescriptionStyleModel",
            "description_width": "",
            "_view_module": "@jupyter-widgets/base",
            "_model_module_version": "1.5.0",
            "_view_count": null,
            "_view_module_version": "1.2.0",
            "_model_module": "@jupyter-widgets/controls"
          }
        },
        "68a91fea88fd4f6c83bf11da5195be1f": {
          "model_module": "@jupyter-widgets/base",
          "model_name": "LayoutModel",
          "model_module_version": "1.2.0",
          "state": {
            "_view_name": "LayoutView",
            "grid_template_rows": null,
            "right": null,
            "justify_content": null,
            "_view_module": "@jupyter-widgets/base",
            "overflow": null,
            "_model_module_version": "1.2.0",
            "_view_count": null,
            "flex_flow": null,
            "width": null,
            "min_width": null,
            "border": null,
            "align_items": null,
            "bottom": null,
            "_model_module": "@jupyter-widgets/base",
            "top": null,
            "grid_column": null,
            "overflow_y": null,
            "overflow_x": null,
            "grid_auto_flow": null,
            "grid_area": null,
            "grid_template_columns": null,
            "flex": null,
            "_model_name": "LayoutModel",
            "justify_items": null,
            "grid_row": null,
            "max_height": null,
            "align_content": null,
            "visibility": null,
            "align_self": null,
            "height": null,
            "min_height": null,
            "padding": null,
            "grid_auto_rows": null,
            "grid_gap": null,
            "max_width": null,
            "order": null,
            "_view_module_version": "1.2.0",
            "grid_template_areas": null,
            "object_position": null,
            "object_fit": null,
            "grid_auto_columns": null,
            "margin": null,
            "display": null,
            "left": null
          }
        },
        "19306fe173dd4745bd03018cdc1645a9": {
          "model_module": "@jupyter-widgets/controls",
          "model_name": "ButtonStyleModel",
          "model_module_version": "1.5.0",
          "state": {
            "_view_name": "StyleView",
            "_model_name": "ButtonStyleModel",
            "_view_module": "@jupyter-widgets/base",
            "_model_module_version": "1.5.0",
            "_view_count": null,
            "button_color": null,
            "font_weight": "",
            "_view_module_version": "1.2.0",
            "_model_module": "@jupyter-widgets/controls"
          }
        },
        "6d9435c5906d45e9af99d429c6e28910": {
          "model_module": "@jupyter-widgets/base",
          "model_name": "LayoutModel",
          "model_module_version": "1.2.0",
          "state": {
            "_view_name": "LayoutView",
            "grid_template_rows": null,
            "right": null,
            "justify_content": null,
            "_view_module": "@jupyter-widgets/base",
            "overflow": null,
            "_model_module_version": "1.2.0",
            "_view_count": null,
            "flex_flow": null,
            "width": null,
            "min_width": null,
            "border": null,
            "align_items": null,
            "bottom": null,
            "_model_module": "@jupyter-widgets/base",
            "top": null,
            "grid_column": null,
            "overflow_y": null,
            "overflow_x": null,
            "grid_auto_flow": null,
            "grid_area": null,
            "grid_template_columns": null,
            "flex": null,
            "_model_name": "LayoutModel",
            "justify_items": null,
            "grid_row": null,
            "max_height": null,
            "align_content": null,
            "visibility": null,
            "align_self": null,
            "height": null,
            "min_height": null,
            "padding": null,
            "grid_auto_rows": null,
            "grid_gap": null,
            "max_width": null,
            "order": null,
            "_view_module_version": "1.2.0",
            "grid_template_areas": null,
            "object_position": null,
            "object_fit": null,
            "grid_auto_columns": null,
            "margin": null,
            "display": null,
            "left": null
          }
        },
        "9c71f293c21148e2a5f00936b3b2010b": {
          "model_module": "@jupyter-widgets/base",
          "model_name": "LayoutModel",
          "model_module_version": "1.2.0",
          "state": {
            "_view_name": "LayoutView",
            "grid_template_rows": null,
            "right": null,
            "justify_content": null,
            "_view_module": "@jupyter-widgets/base",
            "overflow": null,
            "_model_module_version": "1.2.0",
            "_view_count": null,
            "flex_flow": "column nowrap",
            "width": "500px",
            "min_width": null,
            "border": "1px black solid",
            "align_items": null,
            "bottom": null,
            "_model_module": "@jupyter-widgets/base",
            "top": null,
            "grid_column": null,
            "overflow_y": "auto",
            "overflow_x": null,
            "grid_auto_flow": null,
            "grid_area": null,
            "grid_template_columns": null,
            "flex": null,
            "_model_name": "LayoutModel",
            "justify_items": null,
            "grid_row": null,
            "max_height": null,
            "align_content": null,
            "visibility": null,
            "align_self": null,
            "height": "200px",
            "min_height": null,
            "padding": "5px",
            "grid_auto_rows": null,
            "grid_gap": null,
            "max_width": null,
            "order": null,
            "_view_module_version": "1.2.0",
            "grid_template_areas": null,
            "object_position": null,
            "object_fit": null,
            "grid_auto_columns": null,
            "margin": "5px",
            "display": "flex",
            "left": null
          }
        }
      }
    }
  },
  "cells": [
    {
      "cell_type": "code",
      "metadata": {
        "id": "xS9ISnGGOJzM"
      },
      "source": [
        "from IPython.display import Markdown, clear_output\n",
        "import ipywidgets as widgets\n",
        "import pickle\n",
        "import random\n",
        "import os"
      ],
      "execution_count": null,
      "outputs": []
    },
    {
      "cell_type": "code",
      "metadata": {
        "id": "xTCLYodb13bj"
      },
      "source": [
        "GME_drive_path = 'drive/MyDrive/GME/'\n",
        "campaignsList = os.path.join(GME_drive_path,'campaigns.txt')"
      ],
      "execution_count": null,
      "outputs": []
    },
    {
      "cell_type": "markdown",
      "metadata": {
        "id": "qR2VfSCpPYqR"
      },
      "source": [
        "##ENGINE API"
      ]
    },
    {
      "cell_type": "markdown",
      "metadata": {
        "id": "ScfL_So_ascf"
      },
      "source": [
        "---\n",
        "#####Dice rolling"
      ]
    },
    {
      "cell_type": "code",
      "metadata": {
        "id": "M4RlhXgSPCK3"
      },
      "source": [
        "def die(faces): return random.randint(1,faces)\n",
        "def dice(faces_list): return [die(faces) for faces in faces_list]"
      ],
      "execution_count": null,
      "outputs": []
    },
    {
      "cell_type": "markdown",
      "metadata": {
        "id": "4xHLu24s1KUt"
      },
      "source": [
        "#####Campaign"
      ]
    },
    {
      "cell_type": "code",
      "metadata": {
        "id": "2jyr0Mle1Nt7"
      },
      "source": [
        "def saveCampaign(campaign):\n",
        "  f = open(os.path.join(GME_drive_path,campaign.name),'wb')\n",
        "  pickle.dump(campaign,f)\n",
        "  f.close()\n",
        "\n",
        "def loadCampaign(name):\n",
        "  f = open(os.path.join(GME_drive_path,name),'rb')\n",
        "  campaign = pickle.load(f)\n",
        "  f.close()\n",
        "  return campaign\n",
        "\n",
        "class Campaign:\n",
        "  def __init__(self,name):\n",
        "    self.name = name\n",
        "\n",
        "class MythicCampaign(Campaign):\n",
        "  def __init__(self,name):\n",
        "    super().__init__(name)\n",
        "    self.NPCList = []\n",
        "    self.ThreadList = []\n",
        "    self.chaos = 4\n",
        "  \n",
        "  def increase_chaos(self):\n",
        "    if (self.chaos<6): self.chaos = self.chaos + 1\n",
        "\n",
        "  def reduce_chaos(self):\n",
        "    if (self.chaos>3): self.chaos = self.chaos - 1\n",
        "  \n",
        "class MythicTACCampaign(MythicCampaign):\n",
        "  def __init__(self,name):\n",
        "    super().__init__(name)\n",
        "    self.NPCList = \n",
        "\n",
        "campaignCreators = {\n",
        "    'Mythic': MythicCampaign,\n",
        "    'Mythic+TAC': MythicTACCampaign,\n",
        "    'Ironsworn': IronswornCampaign\n",
        "}\n",
        "\n",
        "def createCampaign(name,engine):\n",
        "  return campaignCreators[engine](name)"
      ],
      "execution_count": null,
      "outputs": []
    },
    {
      "cell_type": "markdown",
      "metadata": {
        "id": "nJdj-kMqQyIC"
      },
      "source": [
        "---\n",
        "#####Chaos Factor"
      ]
    },
    {
      "cell_type": "code",
      "metadata": {
        "id": "pMMFlqQVQ1uR"
      },
      "source": [
        "chaos_factor = 4\n",
        "\n",
        "def increase_chaos():\n",
        "  if (chaos_factor<6): chaos_factor = chaso_factor + 1\n",
        "\n",
        "def reduce_chaos():\n",
        "  if (chaos_factor>3): chaos_factor = chaos_factor - 1"
      ],
      "execution_count": null,
      "outputs": []
    },
    {
      "cell_type": "markdown",
      "metadata": {
        "id": "So4HLDIybMhY"
      },
      "source": [
        "---\n",
        "#####Fate check"
      ]
    },
    {
      "cell_type": "markdown",
      "metadata": {
        "id": "1cYYytgZQ_XM"
      },
      "source": [
        "**Arguments :**\n",
        "* _chaos_ : Chaos Factor (integer value in range [3,6])\n",
        "* _odds_ : Odd of a YES answer (values in ['Impossible', 'No Way', 'Very Unlikely', 'Unlikely', '50/50', 'Likely', 'Very Likely', 'Sure Thing', 'Has To Be'])\n",
        "* _plus_or_minus_ : Direction of most favorable answer (-1 to favor NO and 1 to favor YES)\n",
        "\n",
        "**Returns :**\n",
        "* String : answer\n",
        "* Bool : Is a random event triggered ?\n",
        "* array : rolls for debug"
      ]
    },
    {
      "cell_type": "code",
      "metadata": {
        "id": "t0U81U69ZDwM"
      },
      "source": [
        "odds_dict = {\n",
        "    'Impossible': -8,\n",
        "    'No Way': -6,\n",
        "    'Very Unlikely': -4,\n",
        "    'Unlikely': -2,\n",
        "    '50/50': 0,\n",
        "    'Likely': 2,\n",
        "    'Very Likely': 4,\n",
        "    'Sure Thing': 6,\n",
        "    'Has To Be': 8\n",
        "}\n",
        "def fate(chaos,odds,plus_or_minus):\n",
        "  modifier = odds_dict[odds]\n",
        "  if (chaos<4): modifier = modifier + plus_or_minus*2\n",
        "  elif (chaos>5): modifier = modifier - plus_or_minus*2\n",
        "  roll = dice([10,10,10]);\n",
        "  result = roll[0] + roll[1] + modifier\n",
        "  answer = 'No' if (result<11) else 'Yes'\n",
        "  event = False\n",
        "  if (roll[2] <= chaos):\n",
        "     if (roll[0] == roll[1]):\n",
        "       answer = 'Exceptional ' + answer\n",
        "       event = True\n",
        "     elif ((roll[0]%2==0) and (roll[0]%2==0)): event = True\n",
        "     elif ((roll[0]%2==1) and (roll[1]%2==1)): answer = 'Exceptional ' + answer\n",
        "  return (answer, event, roll)"
      ],
      "execution_count": null,
      "outputs": []
    },
    {
      "cell_type": "code",
      "metadata": {
        "id": "yDWZWNrBUfDp"
      },
      "source": [
        "fate_check_title = widgets.Label(value='Fate Check')\n",
        "fate_check_odds = widgets.Dropdown(\n",
        "    options=odds_dict.keys(),\n",
        "    value='50/50',\n",
        "    description='Odds:')\n",
        "fate_check_favor = widgets.IntSlider(\n",
        "    value=1,\n",
        "    min=-1,\n",
        "    max=1,\n",
        "    step=2,\n",
        "    description='+/- :',\n",
        ")\n",
        "fate_check_button = widgets.Button(description='Fate Check')\n",
        "def on_fate_check_button_clicked(_):\n",
        "  (result,event,rolls) = fate(chaos_factor,fate_check_odds.value,fate_check_favor.value)\n",
        "  with out:\n",
        "    clear_output()\n",
        "    display(Markdown('{}'.format(result)))\n",
        "fate_check_button.on_click(on_fate_check_button_clicked)\n",
        "\n",
        "fate_check_widget = widgets.VBox(\n",
        "    [fate_check_title, fate_check_odds, fate_check_favor, fate_check_button],\n",
        "    layout={'border':'1px gray solid',\n",
        "            'padding':'3px',\n",
        "            'margin': '3px'})"
      ],
      "execution_count": null,
      "outputs": []
    },
    {
      "cell_type": "markdown",
      "metadata": {
        "id": "H_h4ywnA3X6c"
      },
      "source": [
        "---\n",
        "#####Detail Check"
      ]
    },
    {
      "cell_type": "code",
      "metadata": {
        "id": "wDKVIV5QZL_L"
      },
      "source": [
        "detail_table = [\n",
        "  'Anger','Anger','Anger','Anger','Anger',\n",
        "  'Sadness',\n",
        "  'Fear',\n",
        "  'Disfavors Thread',\n",
        "  'Disfavors PC',\n",
        "  'Focus NPC',\n",
        "  'Favors NPC',\n",
        "  'Focus PC',\n",
        "  'Disfavors NPC',\n",
        "  'Focus Thread',\n",
        "  'Favors PC',\n",
        "  'Favor Thread',\n",
        "  'Courage',\n",
        "  'Happiness',\n",
        "  'Calm','Calm','Calm','Calm','Calm']\n",
        "def detail(chaos):\n",
        "  roll = dice([10,10])\n",
        "  modifier = 0\n",
        "  if (chaos<4): modifier = 2\n",
        "  if (chaos>5): modifier = -2\n",
        "  res = roll[0]+roll[1]+modifier\n",
        "  return (detail_table[res],roll)"
      ],
      "execution_count": null,
      "outputs": []
    },
    {
      "cell_type": "code",
      "metadata": {
        "id": "JVj0Wtl5WzH_"
      },
      "source": [
        "detail_check_title = widgets.Label(value='Detail Check')\n",
        "detail_check_button = widgets.Button(description='Detail Check')\n",
        "def on_detail_check_button_clicked(_):\n",
        "  (result,rolls) = detail(chaos_factor)\n",
        "  with out:\n",
        "    clear_output()\n",
        "    display(Markdown('{}'.format(result)))\n",
        "detail_check_button.on_click(on_detail_check_button_clicked)\n",
        "\n",
        "detail_check_widget = widgets.VBox(\n",
        "    [detail_check_title, detail_check_button],\n",
        "    layout={'border':'1px gray solid',\n",
        "            'padding':'3px',\n",
        "            'margin': '3px'})"
      ],
      "execution_count": null,
      "outputs": []
    },
    {
      "cell_type": "markdown",
      "metadata": {
        "id": "Xdr78EDFHxYY"
      },
      "source": [
        "## GM Emulator"
      ]
    },
    {
      "cell_type": "markdown",
      "metadata": {
        "id": "bQg6yQd2J0fd"
      },
      "source": [
        "### Widgets"
      ]
    },
    {
      "cell_type": "code",
      "metadata": {
        "id": "CPmxi736Ht-x"
      },
      "source": [
        "# Tab container\n",
        "tab = widgets.Tab()"
      ],
      "execution_count": null,
      "outputs": []
    },
    {
      "cell_type": "code",
      "metadata": {
        "id": "UntDJ13zKgk6"
      },
      "source": [
        "# Output display\n",
        "out = widgets.Output(layout={\n",
        "    'border':'1px black solid',\n",
        "    'padding': '5px',\n",
        "    'margin':'5px',\n",
        "    'height': '200px',\n",
        "    'width': '500px',\n",
        "    'overflow_y': 'auto',\n",
        "    'display': 'flex',\n",
        "    'flex_flow': 'column nowrap'\n",
        "})"
      ],
      "execution_count": null,
      "outputs": []
    },
    {
      "cell_type": "code",
      "metadata": {
        "id": "8bFY5XoBIMdb"
      },
      "source": [
        "# Oracle tab\n",
        "oracle_tab = widgets.VBox([fate_check_widget,detail_check_widget])"
      ],
      "execution_count": null,
      "outputs": []
    },
    {
      "cell_type": "code",
      "metadata": {
        "id": "S9sQixzkLQVt"
      },
      "source": [
        "# Tabs\n",
        "children = [oracle_tab]\n",
        "tab.children = children\n",
        "tab.set_title(0, 'Oracle')"
      ],
      "execution_count": null,
      "outputs": []
    },
    {
      "cell_type": "markdown",
      "metadata": {
        "id": "cp9WYYTO4cEo"
      },
      "source": [
        "###GM Emulator"
      ]
    },
    {
      "cell_type": "markdown",
      "metadata": {
        "id": "eeVtIvLUpuRX"
      },
      "source": [
        "####Save Manager"
      ]
    },
    {
      "cell_type": "code",
      "metadata": {
        "id": "_QiGv98qqcKR",
        "colab": {
          "base_uri": "https://localhost:8080/",
          "height": 81,
          "referenced_widgets": [
            "26400fbc7f8542cbb55efb6dffcc2f01",
            "017b1b6bf28a43aca53333bace5f4055",
            "9fdfa7bbec184e22adfcef55454657c0",
            "04a7fa5aebb14145b1450daea65b2018",
            "bc3473091b664b43864659834153443b",
            "e026a4b2abc542dcb0cff1d23d0aa390",
            "aa7873f67cf4466c9a5d42f09632de23",
            "4182162b57b9427b928dc3f364a5f2ac"
          ]
        },
        "outputId": "8f266ca5-7c9b-4c2f-c2c0-edc10256a40b"
      },
      "source": [
        "campaigns = open('drive/MyDrive/GME/campaigns.txt').readlines()\n",
        "campaigns_list = widgets.Dropdown(\n",
        "    options=campaigns,\n",
        "    description='Campaigns:')\n",
        "load_campaign_button = widgets.Button(description='Load')\n",
        "def on_load_campaign_button_clicked(_):\n",
        "  print(\"Toto\")\n",
        "load_campaign_button.on_click(on_load_campaign_button_clicked)\n",
        "\n",
        "widgets.VBox([campaigns_list, load_campaign_button])"
      ],
      "execution_count": null,
      "outputs": [
        {
          "output_type": "display_data",
          "data": {
            "application/vnd.jupyter.widget-view+json": {
              "model_id": "26400fbc7f8542cbb55efb6dffcc2f01",
              "version_minor": 0,
              "version_major": 2
            },
            "text/plain": [
              "VBox(children=(Dropdown(description='Campaigns:', options=('Icewind Dale\\n', 'Avernus\\n'), value='Icewind Dale…"
            ]
          },
          "metadata": {
            "tags": []
          }
        }
      ]
    },
    {
      "cell_type": "markdown",
      "metadata": {
        "id": "Ym7ZLU_FqcoJ"
      },
      "source": [
        "#### Engine"
      ]
    },
    {
      "cell_type": "code",
      "metadata": {
        "id": "o1RrM6Z2LbKZ",
        "colab": {
          "base_uri": "https://localhost:8080/",
          "height": 299,
          "referenced_widgets": [
            "452d2f12f38a4bedbfc9ef7cd58638f0",
            "85ecb305fbc7431988f59ef9b67afcb5",
            "c0394d8fdacd464f9125a27cf05f3af3",
            "57979854417a4650b1c3d3e014abda4b",
            "13e99ed9baee4b5bb6e3490ce8d399e1",
            "97edcbc3fabc4ce09d8ef7f957dd0f4a",
            "be127e4a499e412ea52e36fec7e6e353",
            "a131e6699f364574b57d88d287ea24fe",
            "692ff7011004414a9dd1b89943b0c154",
            "e36a4f66fe614bbd9e76c43c199b2a63",
            "df575ff977eb4501b3b8d88a0c203785",
            "5e77461de23a4a84a0c1127e9d219fbb",
            "3b789c134703424e9c2dec7ba357d616",
            "874a9e9e9deb4a268ce304c6ba631a8f",
            "011835938b7d445fadef82451a816c49",
            "030998ce829d48a2b5fce17980fe6b4e",
            "b565335f5ada4bad829aa4b002e569ff",
            "be02fe6a4d494e37aa817f5baf8dd84b",
            "f525792c7f604dfba008b42b9b2f58e9",
            "1b4021409fa24413992de1ed538d00e6",
            "d0e06ac5b35549f2ba860518c6eeec01",
            "28a37688dc894a748466c96827bfd0ca",
            "ef25ecd93e1a461f9e3c23b5653df15f",
            "0fc0598d351a4264abf3a825ec9b9959",
            "9e63f5bf59a94467abd729e57e8c64a8",
            "59017e8858e6450bb4c34e3ff57acab1",
            "68a91fea88fd4f6c83bf11da5195be1f",
            "19306fe173dd4745bd03018cdc1645a9",
            "6d9435c5906d45e9af99d429c6e28910",
            "9c71f293c21148e2a5f00936b3b2010b"
          ]
        },
        "outputId": "400cb320-039a-469d-98e0-6113ec7f1b76"
      },
      "source": [
        "# Layout\n",
        "widgets.HBox([tab,out])"
      ],
      "execution_count": null,
      "outputs": [
        {
          "output_type": "display_data",
          "data": {
            "application/vnd.jupyter.widget-view+json": {
              "model_id": "452d2f12f38a4bedbfc9ef7cd58638f0",
              "version_minor": 0,
              "version_major": 2
            },
            "text/plain": [
              "HBox(children=(Tab(children=(VBox(children=(VBox(children=(Label(value='Fate Check'), Dropdown(description='Od…"
            ]
          },
          "metadata": {
            "tags": []
          }
        }
      ]
    }
  ]
}